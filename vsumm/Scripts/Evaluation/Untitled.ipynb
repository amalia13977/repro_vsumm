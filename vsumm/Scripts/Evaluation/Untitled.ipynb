{
 "cells": [
  {
   "cell_type": "code",
   "execution_count": 2,
   "id": "4c282c79-aa15-4580-8dea-4445006c0a94",
   "metadata": {},
   "outputs": [],
   "source": [
    "import sys\n",
    "sys.path.append(\"../../Data/python\")\n",
    "import os\n",
    "from summe import *\n",
    "import imageio\n",
    "import cv2"
   ]
  },
  {
   "cell_type": "code",
   "execution_count": 3,
   "id": "702420c0-bde0-40d9-9fbe-15fa157511cf",
   "metadata": {},
   "outputs": [
    {
     "ename": "IndexError",
     "evalue": "list index out of range",
     "output_type": "error",
     "traceback": [
      "\u001b[1;31m---------------------------------------------------------------------------\u001b[0m",
      "\u001b[1;31mIndexError\u001b[0m                                Traceback (most recent call last)",
      "\u001b[1;32m<ipython-input-3-1f72e6b3a67a>\u001b[0m in \u001b[0;36m<module>\u001b[1;34m()\u001b[0m\n\u001b[0;32m     50\u001b[0m \u001b[1;33m\u001b[0m\u001b[0m\n\u001b[0;32m     51\u001b[0m \u001b[1;32mif\u001b[0m \u001b[0m__name__\u001b[0m \u001b[1;33m==\u001b[0m \u001b[1;34m'__main__'\u001b[0m\u001b[1;33m:\u001b[0m\u001b[1;33m\u001b[0m\u001b[0m\n\u001b[1;32m---> 52\u001b[1;33m         \u001b[0mmain\u001b[0m\u001b[1;33m(\u001b[0m\u001b[1;33m)\u001b[0m\u001b[1;33m\u001b[0m\u001b[0m\n\u001b[0m",
      "\u001b[1;32m<ipython-input-3-1f72e6b3a67a>\u001b[0m in \u001b[0;36mmain\u001b[1;34m()\u001b[0m\n\u001b[0;32m      1\u001b[0m \u001b[1;32mdef\u001b[0m \u001b[0mmain\u001b[0m\u001b[1;33m(\u001b[0m\u001b[1;33m)\u001b[0m\u001b[1;33m:\u001b[0m\u001b[1;33m\u001b[0m\u001b[0m\n\u001b[0;32m      2\u001b[0m         \u001b[0mvideo\u001b[0m\u001b[1;33m=\u001b[0m\u001b[0msys\u001b[0m\u001b[1;33m.\u001b[0m\u001b[0margv\u001b[0m\u001b[1;33m[\u001b[0m\u001b[1;36m1\u001b[0m\u001b[1;33m]\u001b[0m\u001b[1;33m\u001b[0m\u001b[0m\n\u001b[1;32m----> 3\u001b[1;33m         \u001b[0mdirectory\u001b[0m\u001b[1;33m=\u001b[0m\u001b[0msys\u001b[0m\u001b[1;33m.\u001b[0m\u001b[0margv\u001b[0m\u001b[1;33m[\u001b[0m\u001b[1;36m4\u001b[0m\u001b[1;33m]\u001b[0m\u001b[1;33m\u001b[0m\u001b[0m\n\u001b[0m\u001b[0;32m      4\u001b[0m         \u001b[0msampling_rate\u001b[0m\u001b[1;33m=\u001b[0m\u001b[0mint\u001b[0m\u001b[1;33m(\u001b[0m\u001b[0msys\u001b[0m\u001b[1;33m.\u001b[0m\u001b[0margv\u001b[0m\u001b[1;33m[\u001b[0m\u001b[1;36m2\u001b[0m\u001b[1;33m]\u001b[0m\u001b[1;33m)\u001b[0m\u001b[1;33m\u001b[0m\u001b[0m\n\u001b[0;32m      5\u001b[0m         \u001b[0mpercent\u001b[0m\u001b[1;33m=\u001b[0m\u001b[0mint\u001b[0m\u001b[1;33m(\u001b[0m\u001b[0msys\u001b[0m\u001b[1;33m.\u001b[0m\u001b[0margv\u001b[0m\u001b[1;33m[\u001b[0m\u001b[1;36m3\u001b[0m\u001b[1;33m]\u001b[0m\u001b[1;33m)\u001b[0m\u001b[1;33m\u001b[0m\u001b[0m\n",
      "\u001b[1;31mIndexError\u001b[0m: list index out of range"
     ]
    }
   ],
   "source": [
    "def main():\n",
    "\tvideo=sys.argv[1]\n",
    "\tdirectory=sys.argv[4]\n",
    "\tsampling_rate=int(sys.argv[2])\n",
    "\tpercent=int(sys.argv[3])\n",
    "\tvideo_length=len(imageio.get_reader(sys.argv[1]))\n",
    "\tn_clusters=int(percent*video_length/100)\n",
    "\tif video_length/sampling_rate < n_clusters:\n",
    "\t\tn_clusters=video_length/sampling_rate\n",
    "\n",
    "\tif len(sys.argv)>7 and sys.argv[7]==\"1\":\n",
    "\t\tvideo_cv=cv2.VideoCapture(os.path.abspath(os.path.expanduser(sys.argv[1])))\n",
    "\t\tfps=int(video_cv.get(cv2.CAP_PROP_FPS))\n",
    "\t\tframe_count=int(video_cv.get(cv2.CAP_PROP_FRAME_COUNT))\n",
    "\t\tskim_frames_length=fps*1.8\n",
    "\t\tn_clusters=int(percent*frame_count/skim_frames_length/100)+1\n",
    "\n",
    "\tprint \"Getting frames of summary!\"\n",
    "\tframe_indices=[int(idx) for idx in open(directory+'frame_indices_'+ sys.argv[6]+'_'+str(n_clusters)+'_'+str(sampling_rate)+'.txt','r').read().splitlines()]\n",
    "\tprint \"Got the frames'\"\n",
    "\n",
    "\tvideo=video.split('/')\n",
    "\tvideoName=video[len(video)-1].split('.')[0]\n",
    "\tprint videoName\n",
    "\t\n",
    "\tvideo[len(video)-2]=\"GT\"\n",
    "\tHOMEDATA='/'.join(video[0:len(video)-1])\n",
    "\tprint HOMEDATA\n",
    "\n",
    "\t# OPTIONAL: Recreating summary\n",
    "\t# video=imageio.get_reader(sys.argv[1])\n",
    "\t# summary=np.array([video.get_data(idx) for idx in frame_indices])\n",
    "\t\n",
    "\tf_measure, summary_length=evaluateSummary(frame_indices,videoName,HOMEDATA)\n",
    "\tprint \"F-measure %.3f at length %.2f\" %(f_measure, summary_length)\n",
    "\n",
    "\tif len(sys.argv)>5:\n",
    "\t\tif os.path.exists(sys.argv[5])==False:\n",
    "\t\t\tout_file=open(sys.argv[5],'a')\n",
    "\t\t\tout_file.write(\"Sampling rate, Number of Clusters, F-measure, Summary Length\\n\")\n",
    "\t\telse:\n",
    "\t\t\tout_file=open(sys.argv[5],'a')\n",
    "\t\tout_file.write(\"%d,%d,%f,%f\\n\"%(sampling_rate,n_clusters,f_measure,summary_length))\n",
    "\t\n",
    "\t# optional plotting of results\n",
    "\t# methodNames={'VSUMM using Color Histrograms'}\n",
    "\t# summaries={}\n",
    "\t# summaries[0]=frame_indices\n",
    "\t# plotAllResults(summaries,methodNames,videoName,HOMEDATA)\n",
    "\n",
    "if __name__ == '__main__':\n",
    "\tmain()"
   ]
  },
  {
   "cell_type": "code",
   "execution_count": null,
   "id": "f49a7d43-5c37-4f2e-943f-58a71bb6ea8a",
   "metadata": {},
   "outputs": [],
   "source": []
  }
 ],
 "metadata": {
  "kernelspec": {
   "display_name": "Python 2.7",
   "language": "python",
   "name": "py27env"
  },
  "language_info": {
   "codemirror_mode": {
    "name": "ipython",
    "version": 2
   },
   "file_extension": ".py",
   "mimetype": "text/x-python",
   "name": "python",
   "nbconvert_exporter": "python",
   "pygments_lexer": "ipython2",
   "version": "2.7.18"
  }
 },
 "nbformat": 4,
 "nbformat_minor": 5
}
